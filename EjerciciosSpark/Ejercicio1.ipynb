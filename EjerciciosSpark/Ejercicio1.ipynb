{
 "cells": [
  {
   "cell_type": "code",
   "execution_count": 143,
   "metadata": {},
   "outputs": [],
   "source": [
    "from pyspark.sql import *\n",
    "from pyspark.sql.functions import *\n",
    "from pyspark import SparkContext\n",
    "from pyspark.sql import SQLContext"
   ]
  },
  {
   "cell_type": "code",
   "execution_count": 144,
   "metadata": {},
   "outputs": [],
   "source": [
    "# create the Spark Session\n",
    "spark = SparkSession.builder.getOrCreate()\n",
    "\n",
    "# create the Spark Context\n",
    "sc = spark.sparkContext\n",
    "\n",
    "sqlContext = SQLContext(sc)"
   ]
  },
  {
   "cell_type": "code",
   "execution_count": 145,
   "metadata": {},
   "outputs": [
    {
     "data": {
      "text/plain": [
       "[(103775, 'Analisis', 8, '2020-06-30'),\n",
       " (103775, 'Programacion', 10, '2020-06-30'),\n",
       " (22456, 'Datos', 3, '2018-05-07'),\n",
       " (104567, 'Laboratorio', 5, '2019-09-06'),\n",
       " (111333, 'Taller', 10, '2011-03-13'),\n",
       " (857, 'Estatica', 2, '1987-03-27'),\n",
       " (857, 'Estatica', 2, '2019-03-27'),\n",
       " (103775, 'Robotica', 7, '2016-08-26')]"
      ]
     },
     "execution_count": 145,
     "metadata": {},
     "output_type": "execute_result"
    }
   ],
   "source": [
    "#Creación de datos (padrón, materia, nota, fecha).\n",
    "\n",
    "datos = [\n",
    "    (103775, 'Analisis', 8,\"2020-06-30\"),\n",
    "    (103775, 'Programacion', 10,\"2020-06-30\"),\n",
    "    (22456, 'Datos', 3, \"2018-05-07\"),\n",
    "    (104567, 'Laboratorio', 5,\"2019-09-06\"),\n",
    "    (111333, 'Taller', 10, \"2011-03-13\"),\n",
    "    (857, 'Estatica', 2, \"1987-03-27\"),\n",
    "    (857, 'Estatica', 2, \"2019-03-27\"),\n",
    "    (103775, 'Robotica', 7, \"2016-08-26\")\n",
    "]\n",
    "datos_rdd = sc.parallelize(datos)\n",
    "datos_rdd.collect()"
   ]
  },
  {
   "cell_type": "code",
   "execution_count": 146,
   "metadata": {},
   "outputs": [
    {
     "data": {
      "text/plain": [
       "[Row(padron=103775, materia='Analisis', nota=8, fecha=datetime.date(2020, 6, 30)),\n",
       " Row(padron=103775, materia='Programacion', nota=10, fecha=datetime.date(2020, 6, 30)),\n",
       " Row(padron=22456, materia='Datos', nota=3, fecha=datetime.date(2018, 5, 7)),\n",
       " Row(padron=104567, materia='Laboratorio', nota=5, fecha=datetime.date(2019, 9, 6)),\n",
       " Row(padron=111333, materia='Taller', nota=10, fecha=datetime.date(2011, 3, 13)),\n",
       " Row(padron=857, materia='Estatica', nota=2, fecha=datetime.date(1987, 3, 27)),\n",
       " Row(padron=857, materia='Estatica', nota=2, fecha=datetime.date(2019, 3, 27)),\n",
       " Row(padron=103775, materia='Robotica', nota=7, fecha=datetime.date(2016, 8, 26))]"
      ]
     },
     "execution_count": 146,
     "metadata": {},
     "output_type": "execute_result"
    }
   ],
   "source": [
    "datos_df = datos_rdd.toDF(['padron','materia','nota','fecha'])\n",
    "datos_df = datos_df.withColumn(\"fecha\", (col(\"fecha\").cast(\"date\")))\n",
    "datos_rdd = datos_df.rdd\n",
    "datos_rdd.collect()"
   ]
  },
  {
   "cell_type": "code",
   "execution_count": 147,
   "metadata": {},
   "outputs": [
    {
     "data": {
      "text/plain": [
       "[(103775, 1), (104567, 1)]"
      ]
     },
     "execution_count": 147,
     "metadata": {},
     "output_type": "execute_result"
    }
   ],
   "source": [
    "datos_rdd.map(lambda x: (x[0],(x[1],x[2],x[3].year))).filter(lambda x: (x[1][2]>2018) & (x[1][1]>=4))\\\n",
    ".map(lambda x:(x[0],(1))).reduceByKey(lambda x,y: x).collect()"
   ]
  },
  {
   "cell_type": "code",
   "execution_count": 161,
   "metadata": {},
   "outputs": [
    {
     "data": {
      "text/plain": [
       "[(22456, 3.0),\n",
       " (111333, 10.0),\n",
       " (857, 2.0),\n",
       " (103775, 8.333333333333334),\n",
       " (104567, 5.0)]"
      ]
     },
     "execution_count": 161,
     "metadata": {},
     "output_type": "execute_result"
    }
   ],
   "source": [
    "promedios = datos_rdd.map(lambda x: (x.padron, (x.nota, 1))).reduceByKey(lambda x,y: (x[0]+y[0],x[1]+y[1]))\\\n",
    ".map(lambda x:(x[0], x[1][0]/x[1][1])).cache()\n",
    "promedios.collect()"
   ]
  },
  {
   "cell_type": "code",
   "execution_count": 158,
   "metadata": {},
   "outputs": [
    {
     "data": {
      "text/plain": [
       "[(22456, 'Juan', 'Alberto'),\n",
       " (111333, 'Pedro', 'Bartolo'),\n",
       " (857, 'Ingeniero', 'Huergo'),\n",
       " (103755, 'Franco', 'Batastini'),\n",
       " (104567, 'Valentina', 'Etcheto')]"
      ]
     },
     "execution_count": 158,
     "metadata": {},
     "output_type": "execute_result"
    }
   ],
   "source": [
    "#Segundo rdd padron, nombre y apellido\n",
    "\n",
    "datos2 = [\n",
    "    (22456, \"Juan\", \"Alberto\"),\n",
    "    (111333, \"Pedro\", \"Bartolo\"),\n",
    "    (857, \"Ingeniero\", \"Huergo\"),\n",
    "    (103755, \"Franco\", \"Batastini\"),\n",
    "    (104567, \"Valentina\", \"Etcheto\"),\n",
    "         ]\n",
    "\n",
    "registro_rdd = sc.parallelize(datos2)\n",
    "registro_rdd.collect()"
   ]
  },
  {
   "cell_type": "code",
   "execution_count": 174,
   "metadata": {},
   "outputs": [
    {
     "data": {
      "text/plain": [
       "[(111333, 'Pedro', 'Bartolo')]"
      ]
     },
     "execution_count": 174,
     "metadata": {},
     "output_type": "execute_result"
    }
   ],
   "source": [
    "max_promedio = promedios.reduce(lambda x,y: (x if x[1]>y[1] else y))\n",
    "registro_rdd.filter(lambda x: (x[0] == max_promedio[0])).collect()"
   ]
  }
 ],
 "metadata": {
  "kernelspec": {
   "display_name": "Python 3",
   "language": "python",
   "name": "python3"
  },
  "language_info": {
   "codemirror_mode": {
    "name": "ipython",
    "version": 3
   },
   "file_extension": ".py",
   "mimetype": "text/x-python",
   "name": "python",
   "nbconvert_exporter": "python",
   "pygments_lexer": "ipython3",
   "version": "3.8.3"
  }
 },
 "nbformat": 4,
 "nbformat_minor": 4
}
