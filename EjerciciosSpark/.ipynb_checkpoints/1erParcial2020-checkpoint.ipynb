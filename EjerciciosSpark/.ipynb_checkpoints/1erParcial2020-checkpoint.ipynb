{
 "cells": [
  {
   "cell_type": "markdown",
   "metadata": {},
   "source": [
    "1) Dado los acontecimientos en USA, deseamos obtener datos que nos den mayor información sobre las muertes de personas de raza negra por parte de oficiales de policía.\n",
    "\n",
    "Para ello, tenemos un csv con información sobre las muertes por parte de oficiales de policía en USA desde 2015 hasta 2017: \n",
    "(name, date, race, city, state)\n",
    "Y otro csv con información sobre el porcentaje de cada raza en las ciudades de USA: \n",
    "(state, city, share_white, share_black, share_native_american, share_asian, share_hispanic)\n",
    "\n",
    "Se pide:\n",
    "\n",
    "a) Obtener el estado con mayor porcentaje de muertes de personas de raza negra teniendo en cuenta la cantidad total de muertes por parte de oficiales en ese estado. (10 pts)\n",
    "\n",
    "b) Obtener los 10 estados con mayor diferencia entre el porcentaje de muertes y el porcentaje de gente de raza negra en ese estado. Para ello, considerar el porcentaje de raza de un estado como el promedio de los valores de sus ciudades.  Por ejemplo si en Texas el porcentaje de muertes de personas de raza negra por parte de la policía es del 36% y el promedio de share_black para Texas es 24% la diferencia es 0.12. (15 pts)\n",
    "\n",
    "Resolver ambos puntos usando la API de RDDs de PySpark.\n"
   ]
  },
  {
   "cell_type": "code",
   "execution_count": 58,
   "metadata": {},
   "outputs": [],
   "source": [
    "from pyspark.sql import *\n",
    "from pyspark.sql.functions import *\n",
    "from pyspark import SparkContext\n",
    "from pyspark.sql import SQLContext\n",
    "\n",
    "spark = SparkSession.builder.getOrCreate()\n",
    "sc = spark.sparkContext\n",
    "sqlContext = SQLContext(sc)"
   ]
  },
  {
   "cell_type": "code",
   "execution_count": 59,
   "metadata": {},
   "outputs": [],
   "source": [
    "muertes_policia_data = [\n",
    "    ('Juan',\"20-05-2020\",\"Black\",\"Uganda\",\"Estado 1\"),\n",
    "    ('Juano',\"15-05-2020\",\"Black\",\"Ugandanes\",\"Estado 1\"),\n",
    "    ('Juanito',\"20-04-2020\",\"Black\",\"Ugandanes\",\"Estado 1\"),\n",
    "    ('Juana',\"09-02-2020\",\"White\",\"Ciudad\",\"Estado 2\"),\n",
    "    ('Juanse',\"18-05-2019\",\"Latin\",\"Uganda\",\"Estado 1\"),\n",
    "    ('Juancru',\"03-04-2018\",\"Black\",\"Aiti\",\"Estado 3\"),\n",
    "    ('Juancho',\"25-09-2013\",\"White\",\"Aiti\",\"Estado 3\"),\n",
    "    ('Jaime',\"21-04-2020\",\"Black\",\"Renecia\",\"Estado 3\"),\n",
    "    ('Juanazo',\"10-10-2005\",\"Asian\",\"Ciudad\",\"Estado 2\"),\n",
    "    ('Juanelgo',\"07-08-2009\",\"White\",\"Colombia\",\"Estado 2\")\n",
    "]\n",
    "\n",
    "state_data = [\n",
    "    (\"Estado 1\", \"Ugandanes\", 20, 15, 40, 10, 15),\n",
    "    (\"Estado 1\", \"Uganda\", 10, 25, 30, 15, 20),\n",
    "    (\"Estado 2\", \"Ciudad\", 20, 15, 40, 10, 15),\n",
    "    (\"Estado 2\", \"Colombia\", 0, 35, 15, 22.5, 27.5),\n",
    "    (\"Estado 3\", \"Renecia\", 30, 25, 20, 25, 0),\n",
    "]\n",
    "\n",
    "muertes_policia = sc.parallelize(muertes_policia_data)\n",
    "state = sc.parallelize(state_data)\n",
    "\n",
    "muertes_policia = muertes_policia.toDF(['name', 'date', 'race', 'city', 'state'])\\\n",
    ".withColumn('date', (col('date').cast(\"date\"))).rdd\n",
    "\n",
    "state = state.toDF(['state','city','share_white','share_black','share_native_american','share_asian','share_hispanic']).rdd"
   ]
  },
  {
   "cell_type": "code",
   "execution_count": 60,
   "metadata": {},
   "outputs": [
    {
     "data": {
      "text/plain": [
       "[Row(name='Juan', date=None, race='Black', city='Uganda', state='Estado 1'),\n",
       " Row(name='Juano', date=None, race='Black', city='Ugandanes', state='Estado 1'),\n",
       " Row(name='Juanito', date=None, race='Black', city='Ugandanes', state='Estado 1'),\n",
       " Row(name='Juana', date=None, race='White', city='Ciudad', state='Estado 2'),\n",
       " Row(name='Juanse', date=None, race='Latin', city='Uganda', state='Estado 1'),\n",
       " Row(name='Juancru', date=None, race='Black', city='Aiti', state='Estado 3'),\n",
       " Row(name='Juancho', date=None, race='White', city='Aiti', state='Estado 3'),\n",
       " Row(name='Jaime', date=None, race='Black', city='Renecia', state='Estado 3'),\n",
       " Row(name='Juanazo', date=None, race='Asian', city='Ciudad', state='Estado 2'),\n",
       " Row(name='Juanelgo', date=None, race='White', city='Colombia', state='Estado 2')]"
      ]
     },
     "execution_count": 60,
     "metadata": {},
     "output_type": "execute_result"
    }
   ],
   "source": [
    "muertes_policia.collect()"
   ]
  },
  {
   "cell_type": "code",
   "execution_count": 61,
   "metadata": {},
   "outputs": [
    {
     "data": {
      "text/plain": [
       "[Row(state='Estado 1', city='Ugandanes', share_white=20, share_black=15, share_native_american=40, share_asian=10, share_hispanic=15),\n",
       " Row(state='Estado 1', city='Uganda', share_white=10, share_black=25, share_native_american=30, share_asian=15, share_hispanic=20),\n",
       " Row(state='Estado 2', city='Ciudad', share_white=20, share_black=15, share_native_american=40, share_asian=10, share_hispanic=15),\n",
       " Row(state='Estado 2', city='Colombia', share_white=0, share_black=35, share_native_american=15, share_asian=None, share_hispanic=None),\n",
       " Row(state='Estado 3', city='Renecia', share_white=30, share_black=25, share_native_american=20, share_asian=25, share_hispanic=0),\n",
       " Row(state='Estado 3', city='Aiti', share_white=10, share_black=25, share_native_american=30, share_asian=15, share_hispanic=20)]"
      ]
     },
     "execution_count": 61,
     "metadata": {},
     "output_type": "execute_result"
    }
   ],
   "source": [
    "state.collect()"
   ]
  },
  {
   "cell_type": "code",
   "execution_count": 62,
   "metadata": {},
   "outputs": [
    {
     "data": {
      "text/plain": [
       "[('Estado1', 75.0)]"
      ]
     },
     "execution_count": 62,
     "metadata": {},
     "output_type": "execute_result"
    }
   ],
   "source": [
    "#Obtener el estado con mayor porcentaje de muertes de personas de raza negra teniendo en cuenta la \n",
    "#cantidad total de muertes por parte de oficiales en ese estado.\n",
    "\n",
    "porcentaje_kill_black_estado = muertes_policia.map(lambda x: (x.state, (1, 1  if (x.race == \"Black\") else 0))).reduceByKey\\\n",
    "(lambda x,y: (x[0]+y[0],x[1]+y[1])).map(lambda x: (x[0], (x[1][1]*100/x[1][0]))).cache()\n",
    "\n",
    "porcentaje_black_estado.takeOrdered(1, lambda x: -(x[1]))"
   ]
  },
  {
   "cell_type": "code",
   "execution_count": 63,
   "metadata": {},
   "outputs": [],
   "source": [
    "#Obtener los 10 estados con mayor diferencia entre el porcentaje de muertes y el porcentaje de gente de \n",
    "#raza negra en ese estado. Para ello, considerar el porcentaje de raza de un estado como el promedio de \n",
    "#los valores de sus ciudades.\n",
    "\n",
    "porcentajes_black_estado = state.map(lambda x: (x.state, (1,x.share_black))).reduceByKey(lambda x,y: (x[0]+y[0], x[1]+y[1]))\\\n",
    ".map(lambda x: (x[0], (x[1][1]/x[1][0]))).cache()\n",
    "porcentajes_merged = porcentaje_kill_black_estado.join(porcentajes_black_estado).cache()"
   ]
  },
  {
   "cell_type": "code",
   "execution_count": 64,
   "metadata": {},
   "outputs": [
    {
     "data": {
      "text/plain": [
       "[('Estado 2', 0.0), ('Estado 3', 66.66666666666667), ('Estado 1', 75.0)]"
      ]
     },
     "execution_count": 64,
     "metadata": {},
     "output_type": "execute_result"
    }
   ],
   "source": [
    "porcentaje_kill_black_estado.collect()"
   ]
  },
  {
   "cell_type": "code",
   "execution_count": 65,
   "metadata": {},
   "outputs": [
    {
     "data": {
      "text/plain": [
       "[('Estado 2', 25.0), ('Estado 3', 25.0), ('Estado 1', 20.0)]"
      ]
     },
     "execution_count": 65,
     "metadata": {},
     "output_type": "execute_result"
    }
   ],
   "source": [
    "porcentajes_black_estado.collect()"
   ]
  },
  {
   "cell_type": "code",
   "execution_count": 67,
   "metadata": {},
   "outputs": [
    {
     "data": {
      "text/plain": [
       "[('Estado 2', (0.0, 25.0)),\n",
       " ('Estado 3', (66.66666666666667, 25.0)),\n",
       " ('Estado 1', (75.0, 20.0))]"
      ]
     },
     "execution_count": 67,
     "metadata": {},
     "output_type": "execute_result"
    }
   ],
   "source": [
    "porcentajes_merged.collect()"
   ]
  },
  {
   "cell_type": "code",
   "execution_count": 71,
   "metadata": {},
   "outputs": [
    {
     "data": {
      "text/plain": [
       "[('Estado 1', 55.0), ('Estado 3', 41.66666666666667), ('Estado 2', 25.0)]"
      ]
     },
     "execution_count": 71,
     "metadata": {},
     "output_type": "execute_result"
    }
   ],
   "source": [
    "porcentajes_merged.map(lambda x: (x[0], x[1][0]-x[1][1] if x[1][0]-x[1][1] >= 0 else x[1][1]-x[1][0]))\\\n",
    ".takeOrdered(10, lambda x: (-x[1]))\n",
    "#porcentajes_merged.collect()"
   ]
  }
 ],
 "metadata": {
  "kernelspec": {
   "display_name": "Python 3",
   "language": "python",
   "name": "python3"
  },
  "language_info": {
   "codemirror_mode": {
    "name": "ipython",
    "version": 3
   },
   "file_extension": ".py",
   "mimetype": "text/x-python",
   "name": "python",
   "nbconvert_exporter": "python",
   "pygments_lexer": "ipython3",
   "version": "3.8.3"
  }
 },
 "nbformat": 4,
 "nbformat_minor": 4
}
