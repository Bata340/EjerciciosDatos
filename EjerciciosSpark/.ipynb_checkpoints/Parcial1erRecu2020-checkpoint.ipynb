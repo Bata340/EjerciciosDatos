{
 "cells": [
  {
   "cell_type": "markdown",
   "metadata": {},
   "source": [
    "Dado los acontecimientos en USA, deseamos obtener datos que\n",
    "nos den mayor información sobre las muertes de gente de raza negra\n",
    "por parte de oficiales de policía.\n",
    "\n",
    "Para ello, tenemos un csv con información sobre las muertes por\n",
    "parte de oficiales de policía en USA para 2015 hasta 2017:\n",
    "(name, date, race, city, state)\n",
    "\n",
    "Y otro csv con información sobre el porcentaje de pobreza en las\n",
    "ciudades de USA:\n",
    "\n",
    "(state, city, poverty_rate)\n",
    "\n",
    "Se pide:\n",
    "\n",
    "a) Obtener las 10 ciudades con mayor diferencia entre el porcentaje\n",
    "de pobreza de la ciudad y el porcentaje de pobreza del estado en el\n",
    "que se encuentra esa ciudad. Por ejemplo si en la ciudad de Houston\n",
    "la pobreza es de 15.2 y la pobreza en Texas (el estado donde se\n",
    "encuentra Houston) es de 11.1, la diferencia es 4.1.\n",
    "\n",
    "b) Obtener la cantidad de muertes de gente de raza negra por parte\n",
    "de oficiales de policía, agrupada por estados que compartan el mismo\n",
    "nivel de pobreza redondeado al entero más cercano. Por ejemplo, si\n",
    "NJ tiene una pobreza de 10.33, AL una de 20.64 y AZ una de 10.44,\n",
    "NJ y AZ quedarían juntos representados por el nivel de pobreza de 10\n",
    "y AL en otro grupo con el nivel 21. La salida debe tener el formato:\n",
    "(nivel_de_pobreza, total_de_muertes) "
   ]
  }
 ],
 "metadata": {
  "kernelspec": {
   "display_name": "Python 3",
   "language": "python",
   "name": "python3"
  },
  "language_info": {
   "codemirror_mode": {
    "name": "ipython",
    "version": 3
   },
   "file_extension": ".py",
   "mimetype": "text/x-python",
   "name": "python",
   "nbconvert_exporter": "python",
   "pygments_lexer": "ipython3",
   "version": "3.8.3"
  }
 },
 "nbformat": 4,
 "nbformat_minor": 4
}
