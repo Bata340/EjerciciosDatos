{
 "cells": [
  {
   "cell_type": "markdown",
   "metadata": {},
   "source": [
    "Se cuenta con los siguientes archivos con el registro de la\n",
    "participación de los distintos jugadores en la liga nacional de fútbol.\n",
    "\n",
    "Jugador (ID_JUGADOR, Nombre_apellido, fecha_nacimiento,\n",
    "país)\n",
    "\n",
    "Estadísticas (ID_PARTIDO, ID_JUGADOR, tiempo_juego,\n",
    "distancia_recorrida, goles)\n",
    "\n",
    "Partido (ID_PARTIDO, año, semestre, nro_fecha,\n",
    "equipo_local, equipo_visitante)\n",
    "\n",
    "Utilizando el API de RDD de PySpark, se desea obtener un RDD con\n",
    "el nombre y apellido de los jugadores nacidos en Argentina que\n",
    "hayan aumentado en más de un 50% el tiempo de juego total de\n",
    "un semestre al otro. Cada año se juegan dos campeonatos (uno por\n",
    "semestre) y se deben comparar semestres consecutivos (por ejemplo\n",
    "2017-2 con 2018-1, o 2018-1 con 2018-2). El tiempo de juego total\n",
    "para un campeonato es la suma de todo el tiempo jugado en los\n",
    "partidos de ese campeonato.\n"
   ]
  },
  {
   "cell_type": "code",
   "execution_count": 92,
   "metadata": {},
   "outputs": [],
   "source": [
    "from pyspark.sql import *\n",
    "from pyspark.sql.functions import *\n",
    "from pyspark import SparkContext\n",
    "from pyspark.sql import SQLContext\n",
    "\n",
    "spark = SparkSession.builder.getOrCreate()\n",
    "sc = spark.sparkContext\n",
    "sqlContext = SQLContext(sc)"
   ]
  },
  {
   "cell_type": "code",
   "execution_count": 93,
   "metadata": {},
   "outputs": [],
   "source": [
    "jugador_data = [\n",
    "    (1,'John Connor',\"2000-05-20\",'Estados Unidos'),\n",
    "    (2,'Mike Wazosky',\"1980-03-15\",'Argentina'),\n",
    "    (3,'James Sullyvan',\"1970-08-30\",'Argentina'),\n",
    "    (4,'Nathan Drake',\"1985-04-12\", 'Colombia'),\n",
    "    (5, 'Poco Yo',\"1995-11-28\",'China')\n",
    "]\n",
    "\n",
    "stats_data = [\n",
    "    (1,1,30,100,1),\n",
    "    (2,1,60,200,1),\n",
    "    (3,2,10,20,0),\n",
    "    (4,2,15,40,2),\n",
    "    (5,3,20,70,0),\n",
    "    (6,3,22,79,1),\n",
    "    (7,4,40,120,1),\n",
    "    (8,4,80,200,3),\n",
    "    (9,5,5,6,1),\n",
    "    (10,5,7,10,0)\n",
    "]\n",
    "\n",
    "partido_data = [\n",
    "    (1,2018,1,\"2018-05-20\",0,1),\n",
    "    (2,2018,2,\"2018-11-15\",1,0),\n",
    "    (3,2019,1,\"2019-04-30\",0,1),\n",
    "    (4,2019,2,\"2019-10-12\",1,0),\n",
    "    (5,2016,2,\"2016-11-28\",0,1),\n",
    "    (6,2017,1,\"2017-05-20\",1,0),\n",
    "    (7,2012,1,\"2012-01-15\",0,1),\n",
    "    (8,2015,1,\"2015-04-30\",1,0),\n",
    "    (9,2011,2,\"2011-10-12\",0,1),\n",
    "    (10,2012,1,\"2012-02-28\",1,0)\n",
    "]\n",
    "\n",
    "jugador = sc.parallelize(jugador_data)\n",
    "stats = sc.parallelize(stats_data)\n",
    "partido = sc.parallelize(partido_data)"
   ]
  },
  {
   "cell_type": "code",
   "execution_count": 94,
   "metadata": {},
   "outputs": [],
   "source": [
    "jugador = jugador.toDF(['ID_JUGADOR','Nombre_apellido','fecha_nacimiento','pais']).withColumn\\\n",
    "('fecha_nacimiento', (col('fecha_nacimiento').cast('date'))).rdd\n",
    "stats = stats.toDF(['ID_PARTIDO', 'ID_JUGADOR', 'tiempo_juego', 'distancia_recorrida', 'goles']).rdd\n",
    "partido = partido.toDF(['ID_PARTIDO', 'año', 'semestre', 'nro_fecha', 'equipo_local', 'equipo_visitante']).withColumn\\\n",
    "('nro_fecha', col('nro_fecha').cast('date')).rdd\n"
   ]
  },
  {
   "cell_type": "code",
   "execution_count": 95,
   "metadata": {},
   "outputs": [
    {
     "data": {
      "text/plain": [
       "[Row(ID_JUGADOR=1, Nombre_apellido='John Connor', fecha_nacimiento=datetime.date(2000, 5, 20), pais='Estados Unidos')]"
      ]
     },
     "execution_count": 95,
     "metadata": {},
     "output_type": "execute_result"
    }
   ],
   "source": [
    "jugador.take(1)"
   ]
  },
  {
   "cell_type": "code",
   "execution_count": 96,
   "metadata": {},
   "outputs": [
    {
     "data": {
      "text/plain": [
       "[Row(ID_PARTIDO=1, ID_JUGADOR=1, tiempo_juego=30, distancia_recorrida=100, goles=1)]"
      ]
     },
     "execution_count": 96,
     "metadata": {},
     "output_type": "execute_result"
    }
   ],
   "source": [
    "stats.take(1)"
   ]
  },
  {
   "cell_type": "code",
   "execution_count": 97,
   "metadata": {},
   "outputs": [
    {
     "data": {
      "text/plain": [
       "[Row(ID_PARTIDO=1, año=2018, semestre=1, nro_fecha=datetime.date(2018, 5, 20), equipo_local=0, equipo_visitante=1)]"
      ]
     },
     "execution_count": 97,
     "metadata": {},
     "output_type": "execute_result"
    }
   ],
   "source": [
    "partido.take(1)"
   ]
  },
  {
   "cell_type": "code",
   "execution_count": 98,
   "metadata": {},
   "outputs": [
    {
     "data": {
      "text/plain": [
       "[(3, (10, 'Mike Wazosky')),\n",
       " (4, (15, 'Mike Wazosky')),\n",
       " (5, (20, 'James Sullyvan')),\n",
       " (6, (22, 'James Sullyvan'))]"
      ]
     },
     "execution_count": 98,
     "metadata": {},
     "output_type": "execute_result"
    }
   ],
   "source": [
    "jugadores_argentinos = jugador.filter(lambda x: x.pais == 'Argentina').cache()\n",
    "stats = stats.map(lambda x: (x[1],(x[0],x[2]))).join(jugadores_argentinos)\n",
    "stats = stats.map(lambda x: (x[1][0][0],(x[1][0][1],x[1][1])))\n",
    "stats.collect()"
   ]
  },
  {
   "cell_type": "code",
   "execution_count": 99,
   "metadata": {},
   "outputs": [
    {
     "data": {
      "text/plain": [
       "[(1, (2018, 1)),\n",
       " (2, (2018, 2)),\n",
       " (3, (2019, 1)),\n",
       " (4, (2019, 2)),\n",
       " (5, (2016, 2)),\n",
       " (6, (2017, 1)),\n",
       " (7, (2012, 1)),\n",
       " (8, (2015, 1)),\n",
       " (9, (2011, 2)),\n",
       " (10, (2012, 1))]"
      ]
     },
     "execution_count": 99,
     "metadata": {},
     "output_type": "execute_result"
    }
   ],
   "source": [
    "partidos_mapped = partido.map(lambda x: (x.ID_PARTIDO, (x.año, x.semestre)))\n",
    "partidos_mapped.collect()"
   ]
  },
  {
   "cell_type": "code",
   "execution_count": 100,
   "metadata": {},
   "outputs": [
    {
     "data": {
      "text/plain": [
       "[(3, ((2019, 1), (10, 'Mike Wazosky'))),\n",
       " (4, ((2019, 2), (15, 'Mike Wazosky'))),\n",
       " (5, ((2016, 2), (20, 'James Sullyvan'))),\n",
       " (6, ((2017, 1), (22, 'James Sullyvan')))]"
      ]
     },
     "execution_count": 100,
     "metadata": {},
     "output_type": "execute_result"
    }
   ],
   "source": [
    "stats_partidos = partidos_mapped.join(stats).cache()\n",
    "stats_partidos.collect()"
   ]
  },
  {
   "cell_type": "code",
   "execution_count": 104,
   "metadata": {},
   "outputs": [
    {
     "data": {
      "text/plain": [
       "['Mike Wazosky']"
      ]
     },
     "execution_count": 104,
     "metadata": {},
     "output_type": "execute_result"
    }
   ],
   "source": [
    "def funcion(x,y):\n",
    "    if (x[2]==y[2]):\n",
    "        if (x[1]>y[1]):\n",
    "            return ((x[0]+y[0])/y[0])>1.5\n",
    "        elif (x[1]<y[1]):\n",
    "            return ((y[0]+x[0])/x[0])>1.5\n",
    "    if (x[2]-1==y[2] & x[1]==1 & y[1]==2):\n",
    "        return ((x[0]+y[0])/y[0])>1.5\n",
    "    elif (y[2]-1==x[2] & x[1]==2 & y[1]==1):\n",
    "        return (y[0]+x[0]/x[0])>1.5\n",
    "    return False\n",
    "\n",
    "stats_partidos_mapped = stats_partidos.map(lambda x: (x[1][1][1], (x[1][1][0], x[1][0][1], x[1][0][0])))\n",
    "mejorados_semestre = stats_partidos_mapped.reduceByKey(lambda x,y: (funcion(x,y))).filter(lambda x: x[1]).map(\\\n",
    "                                             lambda x: (x[0]))\n",
    "mejorados_semestre.collect()\n"
   ]
  }
 ],
 "metadata": {
  "kernelspec": {
   "display_name": "Python 3",
   "language": "python",
   "name": "python3"
  },
  "language_info": {
   "codemirror_mode": {
    "name": "ipython",
    "version": 3
   },
   "file_extension": ".py",
   "mimetype": "text/x-python",
   "name": "python",
   "nbconvert_exporter": "python",
   "pygments_lexer": "ipython3",
   "version": "3.8.3"
  }
 },
 "nbformat": 4,
 "nbformat_minor": 4
}
