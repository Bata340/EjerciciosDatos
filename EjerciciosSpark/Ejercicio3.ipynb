{
 "cells": [
  {
   "cell_type": "code",
   "execution_count": 2,
   "metadata": {},
   "outputs": [],
   "source": [
    "from pyspark.sql import *\n",
    "from pyspark.sql.functions import *\n",
    "from pyspark import SparkContext\n",
    "from pyspark.sql import SQLContext\n",
    "\n",
    "spark = SparkSession.builder.getOrCreate()\n",
    "sc = spark.sparkContext\n",
    "sqlContext = SQLContext(sc)"
   ]
  },
  {
   "cell_type": "markdown",
   "metadata": {},
   "source": [
    "Se tiene un RDD con información de vuelos programados con la forma (número de vuelo, código de aerolínea, código de aeropuerto de salida, código de aeropuerto de llegada, fecha de salida AAAAMMDD, hora de salida HH:MM, fecha de llegada AAAAMMDD, hora de llegada HH:MM). A su vez, se cuenta con el registro actualizado del estado de los vuelos que fueron ocurriendo, con la forma (número de vuelo, aerolínea, fecha de salida AAAAMMDD, hora de salida HH:MM, fecha de llegada AAAAMMDD, hora de llegada HH:MM, estado). En base al estado, podría contar con algún dato en blanco, por ejemplo si el vuelo fue cancelado no tendrá información de fechas y horas, si el vuelo se encuentra aún en curso, no contendrá información de la llegada."
   ]
  },
  {
   "cell_type": "code",
   "execution_count": 15,
   "metadata": {},
   "outputs": [],
   "source": [
    "vuelos_programados_data = [\n",
    "    (5,1,1,10,\"20200503\",\"20:00\",\"20200504\",\"03:30\"),\n",
    "    (6,1,3,11,\"20200503\",\"21:00\",\"20200504\",\"16:30\"),\n",
    "    (5,2,1,11,\"20201203\",\"13:12\",\"20201203\",\"15:15\"),\n",
    "    (5,2,1,12,\"20200504\",\"07:40\",\"20200504\",\"20:00\"),\n",
    "    (7,1,1,13,\"20190405\",\"08:55\",\"20190406\",\"19:30\")\n",
    "]\n",
    "\n",
    "vuelos_ocurridos_data = [\n",
    "    (1,1,1,10,\"20190503\",\"20:00\",\"20190504\",\"03:30\"),\n",
    "    (2,1,1,11,\"20191012\",\"20:00\",\"20191012\",\"23:59\"),\n",
    "    (1,2,1,11,\"20180503\",\"19:00\",\"20180504\",\"01:25\"),\n",
    "    (2,2,1,13,\"20170503\",\"20:00\",\"20170504\",\"03:30\")\n",
    "]\n",
    "\n",
    "vuelos_programados = sc.parallelize(vuelos_programados_data)\n",
    "\n",
    "vuelos_programados = vuelos_programados.toDF(['nvuelo',\"codigo\",\"codigo_aeropuerto\",\"cod_aerop_llegada\",\"fecha_salida\",\\\n",
    " \"hora_salida\", \"fecha_llegada\", \"hora_llegada\"]).withColumn(\"fecha_salida\", (col('fecha_salida').cast(\"date\")))\\\n",
    ".withColumn(\"fecha_llegada\", (col('fecha_llegada').cast(\"date\"))).withColumn(\"hora_salida\", (col(\"hora_salida\")\\\n",
    ".cast(\"timeStamp\"))).withColumn(\"hora_llegada\", (col(\"hora_llegada\").cast(\"timeStamp\"))).rdd\n",
    "\n",
    "vuelos_ocurridos = sc.parallelize(vuelos_ocurridos_data)\n",
    "\n",
    "vuelos_ocurridos = vuelos_ocurridos.toDF(['nvuelo',\"codigo\",\"codigo_aeropuerto\",\"cod_aerop_llegada\",\"fecha_salida\",\\\n",
    " \"hora_salida\", \"fecha_llegada\", \"hora_llegada\"]).withColumn(\"fecha_salida\", (col('fecha_salida').cast(\"date\")))\\\n",
    ".withColumn(\"fecha_llegada\", (col('fecha_llegada').cast(\"date\"))).withColumn(\"hora_salida\", (col(\"hora_salida\")\\\n",
    ".cast(\"timeStamp\"))).withColumn(\"hora_llegada\", (col(\"hora_llegada\").cast(\"timeStamp\"))).rdd"
   ]
  },
  {
   "cell_type": "code",
   "execution_count": 16,
   "metadata": {},
   "outputs": [
    {
     "data": {
      "text/plain": [
       "[Row(nvuelo=5, codigo=1, codigo_aeropuerto=1, cod_aerop_llegada=10, fecha_salida=None, hora_salida=datetime.datetime(2020, 10, 25, 20, 0), fecha_llegada=None, hora_llegada=datetime.datetime(2020, 10, 25, 3, 30)),\n",
       " Row(nvuelo=6, codigo=1, codigo_aeropuerto=3, cod_aerop_llegada=11, fecha_salida=None, hora_salida=datetime.datetime(2020, 10, 25, 21, 0), fecha_llegada=None, hora_llegada=datetime.datetime(2020, 10, 25, 16, 30)),\n",
       " Row(nvuelo=5, codigo=2, codigo_aeropuerto=1, cod_aerop_llegada=11, fecha_salida=None, hora_salida=datetime.datetime(2020, 10, 25, 13, 12), fecha_llegada=None, hora_llegada=datetime.datetime(2020, 10, 25, 15, 15)),\n",
       " Row(nvuelo=5, codigo=2, codigo_aeropuerto=1, cod_aerop_llegada=12, fecha_salida=None, hora_salida=datetime.datetime(2020, 10, 25, 7, 40), fecha_llegada=None, hora_llegada=datetime.datetime(2020, 10, 25, 20, 0)),\n",
       " Row(nvuelo=7, codigo=1, codigo_aeropuerto=1, cod_aerop_llegada=13, fecha_salida=None, hora_salida=datetime.datetime(2020, 10, 25, 8, 55), fecha_llegada=None, hora_llegada=datetime.datetime(2020, 10, 25, 19, 30))]"
      ]
     },
     "execution_count": 16,
     "metadata": {},
     "output_type": "execute_result"
    }
   ],
   "source": [
    "vuelos_programados.collect()"
   ]
  },
  {
   "cell_type": "code",
   "execution_count": 17,
   "metadata": {},
   "outputs": [
    {
     "data": {
      "text/plain": [
       "[Row(nvuelo=1, codigo=1, codigo_aeropuerto=1, cod_aerop_llegada=10, fecha_salida=None, hora_salida=datetime.datetime(2020, 10, 25, 20, 0), fecha_llegada=None, hora_llegada=datetime.datetime(2020, 10, 25, 3, 30)),\n",
       " Row(nvuelo=2, codigo=1, codigo_aeropuerto=1, cod_aerop_llegada=11, fecha_salida=None, hora_salida=datetime.datetime(2020, 10, 25, 20, 0), fecha_llegada=None, hora_llegada=datetime.datetime(2020, 10, 25, 23, 59)),\n",
       " Row(nvuelo=1, codigo=2, codigo_aeropuerto=1, cod_aerop_llegada=11, fecha_salida=None, hora_salida=datetime.datetime(2020, 10, 25, 19, 0), fecha_llegada=None, hora_llegada=datetime.datetime(2020, 10, 25, 1, 25)),\n",
       " Row(nvuelo=2, codigo=2, codigo_aeropuerto=1, cod_aerop_llegada=13, fecha_salida=None, hora_salida=datetime.datetime(2020, 10, 25, 20, 0), fecha_llegada=None, hora_llegada=datetime.datetime(2020, 10, 25, 3, 30))]"
      ]
     },
     "execution_count": 17,
     "metadata": {},
     "output_type": "execute_result"
    }
   ],
   "source": [
    "vuelos_ocurridos.collect()"
   ]
  }
 ],
 "metadata": {
  "kernelspec": {
   "display_name": "Python 3",
   "language": "python",
   "name": "python3"
  },
  "language_info": {
   "codemirror_mode": {
    "name": "ipython",
    "version": 3
   },
   "file_extension": ".py",
   "mimetype": "text/x-python",
   "name": "python",
   "nbconvert_exporter": "python",
   "pygments_lexer": "ipython3",
   "version": "3.8.3"
  }
 },
 "nbformat": 4,
 "nbformat_minor": 4
}
