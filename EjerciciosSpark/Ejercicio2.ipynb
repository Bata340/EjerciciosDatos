{
 "cells": [
  {
   "cell_type": "code",
   "execution_count": 103,
   "metadata": {},
   "outputs": [],
   "source": [
    "from pyspark.sql import *\n",
    "from pyspark.sql.functions import *\n",
    "from pyspark import SparkContext\n",
    "from pyspark.sql import SQLContext\n",
    "import pandas as pd\n",
    "\n",
    "spark = SparkSession.builder.getOrCreate()\n",
    "sc = spark.sparkContext\n",
    "sqlContext = SQLContext(sc)"
   ]
  },
  {
   "cell_type": "code",
   "execution_count": 104,
   "metadata": {},
   "outputs": [],
   "source": [
    "#2- Se tiene un RDD registros de ventas de producto con la forma (fecha de venta, código de producto, \n",
    "#precio de venta) y en otro RDD detalle de los productos con (código de producto, descripción del producto, \n",
    "#categoría).\n",
    "\n",
    "rdd_data_1 = [\n",
    "    (\"2020-03-06\",1,200),\n",
    "    (\"2019-05-06\",2,125),\n",
    "    (\"2018-10-26\",1,100),\n",
    "    (\"2020-01-10\",2,450),\n",
    "    (\"2020-05-04\",2,300),\n",
    "    (\"2020-07-30\",2,600),\n",
    "    (\"2019-08-22\",2,700),\n",
    "    (\"2020-05-12\",2,300),\n",
    "    (\"2016-03-03\",3,500),\n",
    "    (\"2005-08-13\",3,500),\n",
    "    (\"2006-04-10\",3,500),\n",
    "    (\"2013-08-07\",4,700),\n",
    "    (\"2009-06-10\",4,500),\n",
    "    (\"2020-08-20\",5,100),\n",
    "    (\"2018-06-10\",5,70),\n",
    "    (\"2019-07-10\",6,1000),\n",
    "    (\"2020-10-10\",6,1500)\n",
    "]\n",
    "\n",
    "rdd_data_2 = [\n",
    "    (1, \"Afeitadora\", \"Cuidados Personales\"),\n",
    "    (2, \"Auriculares\", \"Electronica\"),\n",
    "    (3, \"Zapallo\", \"Verduras\"),\n",
    "    (4, \"Pantufla\", \"Ropa\"),\n",
    "    (5, \"Aguacate\", \"Verduras\"),\n",
    "    (6, \"Camisa\", \"Ropa\")\n",
    "]\n",
    "\n",
    "rdd_ventas = sc.parallelize(rdd_data_1)\n",
    "rdd_prods = sc.parallelize(rdd_data_2)"
   ]
  },
  {
   "cell_type": "code",
   "execution_count": 105,
   "metadata": {},
   "outputs": [
    {
     "data": {
      "text/plain": [
       "[Row(fecha=datetime.date(2020, 3, 6), id=1, precio=200),\n",
       " Row(fecha=datetime.date(2019, 5, 6), id=2, precio=125),\n",
       " Row(fecha=datetime.date(2018, 10, 26), id=1, precio=100),\n",
       " Row(fecha=datetime.date(2020, 1, 10), id=2, precio=450),\n",
       " Row(fecha=datetime.date(2020, 5, 4), id=2, precio=300),\n",
       " Row(fecha=datetime.date(2020, 7, 30), id=2, precio=600),\n",
       " Row(fecha=datetime.date(2019, 8, 22), id=2, precio=700),\n",
       " Row(fecha=datetime.date(2020, 5, 12), id=2, precio=300),\n",
       " Row(fecha=datetime.date(2016, 3, 3), id=3, precio=500),\n",
       " Row(fecha=datetime.date(2005, 8, 13), id=3, precio=500),\n",
       " Row(fecha=datetime.date(2006, 4, 10), id=3, precio=500),\n",
       " Row(fecha=datetime.date(2013, 8, 7), id=4, precio=700),\n",
       " Row(fecha=datetime.date(2009, 6, 10), id=4, precio=500),\n",
       " Row(fecha=datetime.date(2020, 8, 20), id=5, precio=100),\n",
       " Row(fecha=datetime.date(2018, 6, 10), id=5, precio=70),\n",
       " Row(fecha=datetime.date(2019, 7, 10), id=6, precio=1000),\n",
       " Row(fecha=datetime.date(2020, 10, 10), id=6, precio=1500)]"
      ]
     },
     "execution_count": 105,
     "metadata": {},
     "output_type": "execute_result"
    }
   ],
   "source": [
    "ventas_df = rdd_ventas.toDF(['fecha','id','precio'])\n",
    "rdd_prods = rdd_prods.toDF(['id', 'descripcion', 'categoria']).rdd\n",
    "ventas_df = ventas_df.withColumn(\"fecha\", (col(\"fecha\").cast(\"date\")))\n",
    "rdd_ventas = ventas_df.rdd\n",
    "rdd_ventas.collect()"
   ]
  },
  {
   "cell_type": "code",
   "execution_count": 106,
   "metadata": {},
   "outputs": [
    {
     "data": {
      "text/plain": [
       "[(1, ('Cuidados Personales', 'Afeitadora')),\n",
       " (2, ('Electronica', 'Auriculares')),\n",
       " (3, ('Verduras', 'Zapallo')),\n",
       " (4, ('Ropa', 'Pantufla')),\n",
       " (5, ('Verduras', 'Aguacate')),\n",
       " (6, ('Ropa', 'Camisa'))]"
      ]
     },
     "execution_count": 106,
     "metadata": {},
     "output_type": "execute_result"
    }
   ],
   "source": [
    "rdd_products_mapped = rdd_prods.map(lambda x: (x.id, (x.categoria, x.descripcion)))\n",
    "rdd_products_mapped.collect()"
   ]
  },
  {
   "cell_type": "code",
   "execution_count": 107,
   "metadata": {},
   "outputs": [
    {
     "data": {
      "text/plain": [
       "[(1,\n",
       "  ((datetime.date(2020, 3, 6), 200), ('Cuidados Personales', 'Afeitadora')))]"
      ]
     },
     "execution_count": 107,
     "metadata": {},
     "output_type": "execute_result"
    }
   ],
   "source": [
    "rdd_joined = rdd_ventas.map(lambda x: (x.id, (x.fecha, x.precio))).join(rdd_products_mapped).cache()\n",
    "rdd_joined.take(1)"
   ]
  },
  {
   "cell_type": "code",
   "execution_count": 108,
   "metadata": {},
   "outputs": [
    {
     "data": {
      "text/plain": [
       "[('Auriculares', 6)]"
      ]
     },
     "execution_count": 108,
     "metadata": {},
     "output_type": "execute_result"
    }
   ],
   "source": [
    "rdd_joined_ordered = rdd_joined.map(lambda x: (x[0], (1, x[1][1][1]))).cache()\n",
    "rdd_joined_ordered.reduceByKey(lambda x,y: ((x[0]+y[0],x[1]))).map(lambda x:(x[1][1], x[1][0]))\\\n",
    ".takeOrdered(1, lambda x:-x[1])"
   ]
  },
  {
   "cell_type": "code",
   "execution_count": 109,
   "metadata": {},
   "outputs": [
    {
     "data": {
      "text/plain": [
       "[('Electronica', 6)]"
      ]
     },
     "execution_count": 109,
     "metadata": {},
     "output_type": "execute_result"
    }
   ],
   "source": [
    "#Cuál es la categoría de productos más vendida.\n",
    "rdd_joined.map(lambda x: (x[1][1][0], (1))).reduceByKey(lambda x,y: x+y).takeOrdered(1, lambda x: -x[1])"
   ]
  },
  {
   "cell_type": "code",
   "execution_count": 116,
   "metadata": {},
   "outputs": [
    {
     "data": {
      "text/plain": [
       "[(2, 'Auriculares', 6),\n",
       " (3, 'Zapallo', 3),\n",
       " (1, 'Afeitadora', 2),\n",
       " (4, 'Pantufla', 2),\n",
       " (5, 'Aguacate', 2)]"
      ]
     },
     "execution_count": 116,
     "metadata": {},
     "output_type": "execute_result"
    }
   ],
   "source": [
    "#Cuál es el top5 de productos más vendidos generando un RDD con (código de producto, \n",
    "#descripción, cantidad de ventas)\n",
    "\n",
    "rdd_joined_ordered.reduceByKey(lambda x,y:(x[0]+y[0],x[1])).map(lambda x: (x[0], x[1][1], x[1][0]))\\\n",
    ".takeOrdered(5, lambda x: (-x[2]))"
   ]
  }
 ],
 "metadata": {
  "kernelspec": {
   "display_name": "Python 3",
   "language": "python",
   "name": "python3"
  },
  "language_info": {
   "codemirror_mode": {
    "name": "ipython",
    "version": 3
   },
   "file_extension": ".py",
   "mimetype": "text/x-python",
   "name": "python",
   "nbconvert_exporter": "python",
   "pygments_lexer": "ipython3",
   "version": "3.8.3"
  }
 },
 "nbformat": 4,
 "nbformat_minor": 4
}
