{
 "cells": [
  {
   "cell_type": "code",
   "execution_count": 91,
   "metadata": {},
   "outputs": [
    {
     "data": {
      "text/html": [
       "<div>\n",
       "<style scoped>\n",
       "    .dataframe tbody tr th:only-of-type {\n",
       "        vertical-align: middle;\n",
       "    }\n",
       "\n",
       "    .dataframe tbody tr th {\n",
       "        vertical-align: top;\n",
       "    }\n",
       "\n",
       "    .dataframe thead th {\n",
       "        text-align: right;\n",
       "    }\n",
       "</style>\n",
       "<table border=\"1\" class=\"dataframe\">\n",
       "  <thead>\n",
       "    <tr style=\"text-align: right;\">\n",
       "      <th></th>\n",
       "      <th>padron</th>\n",
       "      <th>materia</th>\n",
       "      <th>nota</th>\n",
       "      <th>fecha</th>\n",
       "    </tr>\n",
       "  </thead>\n",
       "  <tbody>\n",
       "    <tr>\n",
       "      <th>0</th>\n",
       "      <td>1</td>\n",
       "      <td>AmIII</td>\n",
       "      <td>9</td>\n",
       "      <td>2020-10-10</td>\n",
       "    </tr>\n",
       "    <tr>\n",
       "      <th>1</th>\n",
       "      <td>1</td>\n",
       "      <td>Datos</td>\n",
       "      <td>10</td>\n",
       "      <td>2020-10-20</td>\n",
       "    </tr>\n",
       "    <tr>\n",
       "      <th>2</th>\n",
       "      <td>1</td>\n",
       "      <td>Proba</td>\n",
       "      <td>7</td>\n",
       "      <td>2019-07-05</td>\n",
       "    </tr>\n",
       "    <tr>\n",
       "      <th>3</th>\n",
       "      <td>2</td>\n",
       "      <td>AmIII</td>\n",
       "      <td>3</td>\n",
       "      <td>2019-03-05</td>\n",
       "    </tr>\n",
       "    <tr>\n",
       "      <th>4</th>\n",
       "      <td>2</td>\n",
       "      <td>Datos</td>\n",
       "      <td>2</td>\n",
       "      <td>2019-03-20</td>\n",
       "    </tr>\n",
       "    <tr>\n",
       "      <th>5</th>\n",
       "      <td>3</td>\n",
       "      <td>AmIII</td>\n",
       "      <td>4</td>\n",
       "      <td>2020-08-01</td>\n",
       "    </tr>\n",
       "    <tr>\n",
       "      <th>6</th>\n",
       "      <td>3</td>\n",
       "      <td>Datos</td>\n",
       "      <td>5</td>\n",
       "      <td>2017-06-25</td>\n",
       "    </tr>\n",
       "    <tr>\n",
       "      <th>7</th>\n",
       "      <td>4</td>\n",
       "      <td>AmIII</td>\n",
       "      <td>7</td>\n",
       "      <td>1990-07-30</td>\n",
       "    </tr>\n",
       "    <tr>\n",
       "      <th>8</th>\n",
       "      <td>4</td>\n",
       "      <td>Datos</td>\n",
       "      <td>2</td>\n",
       "      <td>1992-08-26</td>\n",
       "    </tr>\n",
       "    <tr>\n",
       "      <th>9</th>\n",
       "      <td>5</td>\n",
       "      <td>AmIII</td>\n",
       "      <td>1</td>\n",
       "      <td>2005-10-11</td>\n",
       "    </tr>\n",
       "    <tr>\n",
       "      <th>10</th>\n",
       "      <td>5</td>\n",
       "      <td>Datos</td>\n",
       "      <td>10</td>\n",
       "      <td>2006-02-12</td>\n",
       "    </tr>\n",
       "  </tbody>\n",
       "</table>\n",
       "</div>"
      ],
      "text/plain": [
       "    padron materia  nota      fecha\n",
       "0        1   AmIII     9 2020-10-10\n",
       "1        1   Datos    10 2020-10-20\n",
       "2        1   Proba     7 2019-07-05\n",
       "3        2   AmIII     3 2019-03-05\n",
       "4        2   Datos     2 2019-03-20\n",
       "5        3   AmIII     4 2020-08-01\n",
       "6        3   Datos     5 2017-06-25\n",
       "7        4   AmIII     7 1990-07-30\n",
       "8        4   Datos     2 1992-08-26\n",
       "9        5   AmIII     1 2005-10-11\n",
       "10       5   Datos    10 2006-02-12"
      ]
     },
     "execution_count": 91,
     "metadata": {},
     "output_type": "execute_result"
    }
   ],
   "source": [
    "import pandas as pd\n",
    "import numpy as np\n",
    "import seaborn as sns\n",
    "import matplotlib.pyplot as plt\n",
    "%matplotlib inline\n",
    "\n",
    "alumnos = {\n",
    "    \"padron\": [1,1,1,2,2,3,3,4,4,5,5],\n",
    "    \"materia\": ['AmIII','Datos', 'Proba','AmIII','Datos','AmIII','Datos','AmIII','Datos','AmIII','Datos'],\n",
    "    \"nota\": [9,10,7,3,2,4,5,7,2,1,10],\n",
    "    \"fecha\": ['10/10/2020', '10/20/2020', '07/05/2019', '03/05/2019', '20/03/2019', '08/01/2020', '06/25/2017', '07/30/1990', '08/26/1992',\\\n",
    "              '10/11/2005', '02/12/2006'],\n",
    "}\n",
    "df_alumnos = pd.DataFrame(alumnos, columns=alumnos.keys())\n",
    "df_alumnos.fecha = pd.to_datetime(df_alumnos.fecha)\n",
    "df_alumnos"
   ]
  },
  {
   "cell_type": "code",
   "execution_count": 92,
   "metadata": {},
   "outputs": [
    {
     "data": {
      "text/plain": [
       "5.454545454545454"
      ]
     },
     "execution_count": 92,
     "metadata": {},
     "output_type": "execute_result"
    }
   ],
   "source": [
    "#Subitem 1, Promedio General de notas.\n",
    "\n",
    "prom_general = df_alumnos['nota'].mean()\n",
    "prom_general"
   ]
  },
  {
   "cell_type": "code",
   "execution_count": 93,
   "metadata": {},
   "outputs": [
    {
     "name": "stdout",
     "output_type": "stream",
     "text": [
      "Max nota = 7\n",
      "Min nota = 2\n"
     ]
    }
   ],
   "source": [
    "#Subitem 2, Nota mas alta y mas baja de 2019\n",
    "\n",
    "alumnos_2019 = df_alumnos.loc[pd.DatetimeIndex(df_alumnos['fecha']).year == 2019]\n",
    "max_nota = alumnos_2019['nota'].max()\n",
    "min_nota = alumnos_2019['nota'].min()\n",
    "\n",
    "print ('Max nota = ' + str(max_nota) + '\\nMin nota = ' + str(min_nota))\n"
   ]
  },
  {
   "cell_type": "code",
   "execution_count": 113,
   "metadata": {},
   "outputs": [
    {
     "data": {
      "text/html": [
       "<div>\n",
       "<style scoped>\n",
       "    .dataframe tbody tr th:only-of-type {\n",
       "        vertical-align: middle;\n",
       "    }\n",
       "\n",
       "    .dataframe tbody tr th {\n",
       "        vertical-align: top;\n",
       "    }\n",
       "\n",
       "    .dataframe thead th {\n",
       "        text-align: right;\n",
       "    }\n",
       "</style>\n",
       "<table border=\"1\" class=\"dataframe\">\n",
       "  <thead>\n",
       "    <tr style=\"text-align: right;\">\n",
       "      <th></th>\n",
       "      <th>Cantidad_De_Aprobadas</th>\n",
       "    </tr>\n",
       "    <tr>\n",
       "      <th>padron</th>\n",
       "      <th></th>\n",
       "    </tr>\n",
       "  </thead>\n",
       "  <tbody>\n",
       "    <tr>\n",
       "      <th>1</th>\n",
       "      <td>2</td>\n",
       "    </tr>\n",
       "  </tbody>\n",
       "</table>\n",
       "</div>"
      ],
      "text/plain": [
       "        Cantidad_De_Aprobadas\n",
       "padron                       \n",
       "1                           2"
      ]
     },
     "execution_count": 113,
     "metadata": {},
     "output_type": "execute_result"
    }
   ],
   "source": [
    "#Subitem 3, Padron con mayor cantidad de materias aprobadas en ultimo cuatrimestre\n",
    "\n",
    "alumnos_ultimo_cuat = df_alumnos.loc[(pd.DatetimeIndex(df_alumnos['fecha']).year == 2020) & (pd.DatetimeIndex(df_alumnos['fecha']).month > 7)]\n",
    "alumnos_materias_aprobadas = alumnos_ultimo_cuat.groupby(['padron','materia']).agg({'nota': lambda x: x>=4}).replace({True:1,False:0})\n",
    "alumnos_materias_aprobadas.columns = ['Aprobo']\n",
    "alumnos_materias_aprobadas.reset_index(inplace = True)\n",
    "padron_con_aprobadas = alumnos_materias_aprobadas.groupby('padron').agg({'Aprobo':'count'}).rename(columns={'Aprobo':'Cantidad_De_Aprobadas'})\n",
    "final = padron_con_aprobadas[(padron_con_aprobadas['Cantidad_De_Aprobadas']==padron_con_aprobadas['Cantidad_De_Aprobadas'].max())]\n",
    "final\n"
   ]
  },
  {
   "cell_type": "code",
   "execution_count": 114,
   "metadata": {},
   "outputs": [
    {
     "data": {
      "text/html": [
       "<div>\n",
       "<style scoped>\n",
       "    .dataframe tbody tr th:only-of-type {\n",
       "        vertical-align: middle;\n",
       "    }\n",
       "\n",
       "    .dataframe tbody tr th {\n",
       "        vertical-align: top;\n",
       "    }\n",
       "\n",
       "    .dataframe thead th {\n",
       "        text-align: right;\n",
       "    }\n",
       "</style>\n",
       "<table border=\"1\" class=\"dataframe\">\n",
       "  <thead>\n",
       "    <tr style=\"text-align: right;\">\n",
       "      <th></th>\n",
       "      <th>Nota_Promedio</th>\n",
       "    </tr>\n",
       "    <tr>\n",
       "      <th>materia</th>\n",
       "      <th></th>\n",
       "    </tr>\n",
       "  </thead>\n",
       "  <tbody>\n",
       "    <tr>\n",
       "      <th>AmIII</th>\n",
       "      <td>4.8</td>\n",
       "    </tr>\n",
       "    <tr>\n",
       "      <th>Datos</th>\n",
       "      <td>5.8</td>\n",
       "    </tr>\n",
       "    <tr>\n",
       "      <th>Proba</th>\n",
       "      <td>7.0</td>\n",
       "    </tr>\n",
       "  </tbody>\n",
       "</table>\n",
       "</div>"
      ],
      "text/plain": [
       "         Nota_Promedio\n",
       "materia               \n",
       "AmIII              4.8\n",
       "Datos              5.8\n",
       "Proba              7.0"
      ]
     },
     "execution_count": 114,
     "metadata": {},
     "output_type": "execute_result"
    }
   ],
   "source": [
    "#Subitem 4, Nota promedio por materia\n",
    "\n",
    "notas_promedio_por_materia = df_alumnos.groupby('materia').agg({'nota':'mean'}).rename(columns={'nota':'Nota_Promedio'})\n",
    "notas_promedio_por_materia"
   ]
  },
  {
   "cell_type": "code",
   "execution_count": 115,
   "metadata": {},
   "outputs": [
    {
     "data": {
      "text/html": [
       "<div>\n",
       "<style scoped>\n",
       "    .dataframe tbody tr th:only-of-type {\n",
       "        vertical-align: middle;\n",
       "    }\n",
       "\n",
       "    .dataframe tbody tr th {\n",
       "        vertical-align: top;\n",
       "    }\n",
       "\n",
       "    .dataframe thead th {\n",
       "        text-align: right;\n",
       "    }\n",
       "</style>\n",
       "<table border=\"1\" class=\"dataframe\">\n",
       "  <thead>\n",
       "    <tr style=\"text-align: right;\">\n",
       "      <th></th>\n",
       "      <th>Nota_Promedio</th>\n",
       "    </tr>\n",
       "    <tr>\n",
       "      <th>padron</th>\n",
       "      <th></th>\n",
       "    </tr>\n",
       "  </thead>\n",
       "  <tbody>\n",
       "    <tr>\n",
       "      <th>1</th>\n",
       "      <td>8.666667</td>\n",
       "    </tr>\n",
       "    <tr>\n",
       "      <th>2</th>\n",
       "      <td>2.500000</td>\n",
       "    </tr>\n",
       "    <tr>\n",
       "      <th>3</th>\n",
       "      <td>4.500000</td>\n",
       "    </tr>\n",
       "    <tr>\n",
       "      <th>4</th>\n",
       "      <td>4.500000</td>\n",
       "    </tr>\n",
       "    <tr>\n",
       "      <th>5</th>\n",
       "      <td>5.500000</td>\n",
       "    </tr>\n",
       "  </tbody>\n",
       "</table>\n",
       "</div>"
      ],
      "text/plain": [
       "        Nota_Promedio\n",
       "padron               \n",
       "1            8.666667\n",
       "2            2.500000\n",
       "3            4.500000\n",
       "4            4.500000\n",
       "5            5.500000"
      ]
     },
     "execution_count": 115,
     "metadata": {},
     "output_type": "execute_result"
    }
   ],
   "source": [
    "#Subitem 5, Nota promedio por padron\n",
    "\n",
    "notas_promedio_por_padron = df_alumnos.groupby('padron').agg({'nota':'mean'}).rename(columns={'nota':'Nota_Promedio'})\n",
    "notas_promedio_por_padron"
   ]
  }
 ],
 "metadata": {
  "kernelspec": {
   "display_name": "Python 3",
   "language": "python",
   "name": "python3"
  },
  "language_info": {
   "codemirror_mode": {
    "name": "ipython",
    "version": 3
   },
   "file_extension": ".py",
   "mimetype": "text/x-python",
   "name": "python",
   "nbconvert_exporter": "python",
   "pygments_lexer": "ipython3",
   "version": "3.8.3"
  }
 },
 "nbformat": 4,
 "nbformat_minor": 4
}
